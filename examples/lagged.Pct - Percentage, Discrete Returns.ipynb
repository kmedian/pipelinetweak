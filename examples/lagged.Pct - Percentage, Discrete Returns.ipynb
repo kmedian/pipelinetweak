{
 "cells": [
  {
   "cell_type": "code",
   "execution_count": 1,
   "metadata": {},
   "outputs": [],
   "source": [
    "import sys\n",
    "sys.path.append('..')\n",
    "\n",
    "from pipelinetweak.lagged import val_to_pct, pct_to_val, Pct\n",
    "import numpy as np"
   ]
  },
  {
   "cell_type": "markdown",
   "metadata": {},
   "source": [
    "Generate some random variables $x>0$.\n",
    "Assume `x` is a time series with 3 variables and 7 observations.\n",
    "The oldest observation is in the first row."
   ]
  },
  {
   "cell_type": "code",
   "execution_count": 2,
   "metadata": {},
   "outputs": [
    {
     "data": {
      "text/plain": [
       "array([[77.48357077, 74.30867849, 78.23844269],\n",
       "       [82.61514928, 73.82923313, 73.82931522],\n",
       "       [82.89606408, 78.83717365, 72.65262807],\n",
       "       [77.71280022, 72.68291154, 72.67135123],\n",
       "       [76.20981136, 65.43359878, 66.37541084],\n",
       "       [72.18856235, 69.9358444 , 76.57123666],\n",
       "       [70.45987962, 67.93848149, 82.32824384]])"
      ]
     },
     "execution_count": 2,
     "metadata": {},
     "output_type": "execute_result"
    }
   ],
   "source": [
    "np.random.seed(42)\n",
    "x = np.random.normal(size=(7,3)) * 5 + 75\n",
    "x"
   ]
  },
  {
   "cell_type": "markdown",
   "metadata": {},
   "source": [
    "## To Discrete Returns (Percentage Change)"
   ]
  },
  {
   "cell_type": "markdown",
   "metadata": {},
   "source": [
    "The discrete return, or percentage change between $x_t$ and the previous observation $x_{t-1}$ is\n",
    "\n",
    "$$\n",
    "r_t\n",
    "= \\frac{x_t - x_{t-1}}{x_{t-1}}\n",
    "= \\left(\\frac{x_t}{x_{t-1}}\\right) - 1\n",
    "$$\n"
   ]
  },
  {
   "cell_type": "code",
   "execution_count": 3,
   "metadata": {},
   "outputs": [
    {
     "data": {
      "text/plain": [
       "array([[        nan,         nan,         nan],\n",
       "       [ 0.06622796, -0.00645208, -0.056355  ],\n",
       "       [ 0.00340028,  0.0678314 , -0.01593794],\n",
       "       [-0.06252726, -0.07806295,  0.00025771],\n",
       "       [-0.0193403 , -0.09973889, -0.0866358 ],\n",
       "       [-0.0527655 ,  0.06880633,  0.15360848],\n",
       "       [-0.02394677, -0.02855993,  0.07518498]])"
      ]
     },
     "execution_count": 3,
     "metadata": {},
     "output_type": "execute_result"
    }
   ],
   "source": [
    "ret = val_to_pct(x)\n",
    "ret"
   ]
  },
  {
   "cell_type": "markdown",
   "metadata": {},
   "source": [
    "## Compounding\n",
    "The relation between two observations is\n",
    "\n",
    "$$\n",
    "x_t = x_{t-1} \\, (1 + r_t)\n",
    "$$\n",
    "\n",
    "or for multiple time steps\n",
    "\n",
    "$$\n",
    "x_T = \\prod_{t=1}^T x_{t-1} \\, (1 + r_t)\n",
    "$$\n",
    "\n",
    "The user must provide the intial values $x_0$.\n",
    "You could use the first row `x[0,:]` from the original dataset."
   ]
  },
  {
   "cell_type": "code",
   "execution_count": 4,
   "metadata": {},
   "outputs": [
    {
     "data": {
      "text/plain": [
       "array([[77.48357077, 74.30867849, 78.23844269],\n",
       "       [82.61514928, 73.82923313, 73.82931522],\n",
       "       [82.89606408, 78.83717365, 72.65262807],\n",
       "       [77.71280022, 72.68291154, 72.67135123],\n",
       "       [76.20981136, 65.43359878, 66.37541084],\n",
       "       [72.18856235, 69.9358444 , 76.57123666],\n",
       "       [70.45987962, 67.93848149, 82.32824384]])"
      ]
     },
     "execution_count": 4,
     "metadata": {},
     "output_type": "execute_result"
    }
   ],
   "source": [
    "pct_to_val(ret, initial=x[0,:])"
   ]
  },
  {
   "cell_type": "markdown",
   "metadata": {},
   "source": [
    "## Index to 1\n",
    "However, an initial value of 1 is often used to compare multiple time series.\n",
    "This is called \"indexed to 1\" or \"indexed to 100 percent\"."
   ]
  },
  {
   "cell_type": "code",
   "execution_count": 5,
   "metadata": {},
   "outputs": [
    {
     "data": {
      "text/plain": [
       "array([[1.        , 1.        , 1.        ],\n",
       "       [1.06622796, 0.99354792, 0.943645  ],\n",
       "       [1.06985343, 1.06094167, 0.92860524],\n",
       "       [1.00295843, 0.97812144, 0.92884455],\n",
       "       [0.98356091, 0.88056469, 0.84837336],\n",
       "       [0.93166282, 0.94115312, 0.97869071],\n",
       "       [0.90935251, 0.91427385, 1.05227355]])"
      ]
     },
     "execution_count": 5,
     "metadata": {},
     "output_type": "execute_result"
    }
   ],
   "source": [
    "pct_to_val(ret, initial=1)"
   ]
  },
  {
   "cell_type": "markdown",
   "metadata": {},
   "source": [
    "## sklearn API\n",
    "* set `Pct(initial=value)` if the `inverse_transform` should always use certain initial values. You can temporarly overwrite the behavior with `inverse_transform(initial=othervalue)`\n",
    "* if no initial values are specified, e.g. `Pct()`, then `Pct().fit(X)` will store the first row of `X` as initial values `X[0,:]`. Again, you can temporarily overwrite these inital values with `inverse_transform(initial=othervalue)`\n",
    "\n",
    "transform, inverse_transform\n",
    "\n",
    "* it assumed that `X` nor `Z` have any missing values, i.e. `NaN`\n",
    "* suggest approaches: a) use \"previous tick\" interpolation before `transform`, b) impute `0.0` before `inverse_transform`\n"
   ]
  },
  {
   "cell_type": "code",
   "execution_count": 6,
   "metadata": {},
   "outputs": [
    {
     "data": {
      "text/plain": [
       "array([[ 0.06622796, -0.00645208, -0.056355  ],\n",
       "       [ 0.00340028,  0.0678314 , -0.01593794],\n",
       "       [-0.06252726, -0.07806295,  0.00025771],\n",
       "       [-0.0193403 , -0.09973889, -0.0866358 ],\n",
       "       [-0.0527655 ,  0.06880633,  0.15360848],\n",
       "       [-0.02394677, -0.02855993,  0.07518498]])"
      ]
     },
     "execution_count": 6,
     "metadata": {},
     "output_type": "execute_result"
    }
   ],
   "source": [
    "obj = Pct()\n",
    "obj.fit(x)\n",
    "z = obj.transform(x)\n",
    "z"
   ]
  },
  {
   "cell_type": "code",
   "execution_count": 7,
   "metadata": {},
   "outputs": [
    {
     "data": {
      "text/plain": [
       "array([[77.48357077, 74.30867849, 78.23844269],\n",
       "       [82.61514928, 73.82923313, 73.82931522],\n",
       "       [82.89606408, 78.83717365, 72.65262807],\n",
       "       [77.71280022, 72.68291154, 72.67135123],\n",
       "       [76.20981136, 65.43359878, 66.37541084],\n",
       "       [72.18856235, 69.9358444 , 76.57123666],\n",
       "       [70.45987962, 67.93848149, 82.32824384]])"
      ]
     },
     "execution_count": 7,
     "metadata": {},
     "output_type": "execute_result"
    }
   ],
   "source": [
    "obj.inverse_transform(z)"
   ]
  },
  {
   "cell_type": "code",
   "execution_count": 8,
   "metadata": {},
   "outputs": [
    {
     "data": {
      "text/plain": [
       "array([[100.        , 100.        , 100.        ],\n",
       "       [106.6227956 ,  99.35479223,  94.36449995],\n",
       "       [106.98534316, 106.09416725,  92.86052428],\n",
       "       [100.29584265,  97.8121439 ,  92.88445518],\n",
       "       [ 98.35609098,  88.05646945,  84.83733642],\n",
       "       [ 93.1662824 ,  94.11531172,  97.86907054],\n",
       "       [ 90.93525108,  91.42738489, 105.22735501]])"
      ]
     },
     "execution_count": 8,
     "metadata": {},
     "output_type": "execute_result"
    }
   ],
   "source": [
    "obj.inverse_transform(z, initial=100)"
   ]
  },
  {
   "cell_type": "markdown",
   "metadata": {},
   "source": [
    "## Pipeline example"
   ]
  },
  {
   "cell_type": "code",
   "execution_count": 9,
   "metadata": {},
   "outputs": [
    {
     "data": {
      "text/plain": [
       "array([77.1186619 , 77.07684397, 77.0138636 , 77.14008947, 76.8196796 ,\n",
       "       76.91312837])"
      ]
     },
     "execution_count": 9,
     "metadata": {},
     "output_type": "execute_result"
    }
   ],
   "source": [
    "from pipelinetweak.lagged import Pct\n",
    "from sklearn.linear_model import Ridge\n",
    "from sklearn.pipeline import Pipeline\n",
    "\n",
    "pipe = Pipeline(steps=[\n",
    "    (\"feng\", Pct()),\n",
    "    (\"model\", Ridge())\n",
    "])\n",
    "\n",
    "m = pipe.fit(x[:,1:], x[1:,0])\n",
    "yhat = m.predict(x[:,1:])\n",
    "yhat"
   ]
  },
  {
   "cell_type": "code",
   "execution_count": 10,
   "metadata": {},
   "outputs": [
    {
     "data": {
      "text/plain": [
       "array([77.1186619 , 77.07684397, 77.0138636 , 77.14008947, 76.8196796 ,\n",
       "       76.91312837])"
      ]
     },
     "execution_count": 10,
     "metadata": {},
     "output_type": "execute_result"
    }
   ],
   "source": [
    "obj = Pct(trimnan=True)\n",
    "r = obj.fit_transform(x)\n",
    "lm = Ridge()\n",
    "lm.fit(r[:,1:], x[1:,0])\n",
    "yhat = lm.predict(r[:,1:])\n",
    "yhat"
   ]
  }
 ],
 "metadata": {
  "kernelspec": {
   "display_name": "Python 3",
   "language": "python",
   "name": "python3"
  },
  "language_info": {
   "codemirror_mode": {
    "name": "ipython",
    "version": 3
   },
   "file_extension": ".py",
   "mimetype": "text/x-python",
   "name": "python",
   "nbconvert_exporter": "python",
   "pygments_lexer": "ipython3",
   "version": "3.6.3"
  }
 },
 "nbformat": 4,
 "nbformat_minor": 4
}
