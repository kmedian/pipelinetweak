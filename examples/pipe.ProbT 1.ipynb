{
 "cells": [
  {
   "cell_type": "code",
   "execution_count": 1,
   "metadata": {},
   "outputs": [],
   "source": [
    "%load_ext autoreload\n",
    "%autoreload 2"
   ]
  },
  {
   "cell_type": "code",
   "execution_count": 2,
   "metadata": {},
   "outputs": [],
   "source": [
    "import sys\n",
    "sys.path.append('..')\n",
    "\n",
    "import numpy as np\n",
    "from collections import Counter\n",
    "from sklearn.metrics import accuracy_score"
   ]
  },
  {
   "cell_type": "markdown",
   "metadata": {},
   "source": [
    "# Load Toy Dataset"
   ]
  },
  {
   "cell_type": "code",
   "execution_count": 3,
   "metadata": {},
   "outputs": [
    {
     "name": "stdout",
     "output_type": "stream",
     "text": [
      "Counter({2: 149, 1: 148, 0: 145})\n"
     ]
    }
   ],
   "source": [
    "from sklearn.datasets import load_diabetes\n",
    "\n",
    "tmp = load_diabetes()\n",
    "fn = np.vectorize(lambda x: 0 if x < 99 else 2 if x > 182 else 1)\n",
    "y = fn(tmp.target)\n",
    "X = tmp.data\n",
    "\n",
    "print(Counter(y))"
   ]
  },
  {
   "cell_type": "markdown",
   "metadata": {},
   "source": [
    "# Example"
   ]
  },
  {
   "cell_type": "code",
   "execution_count": 4,
   "metadata": {},
   "outputs": [
    {
     "name": "stdout",
     "output_type": "stream",
     "text": [
      "[[0.24432975 0.33879065 0.41687959]\n",
      " [0.53187749 0.31741405 0.15070845]\n",
      " [0.2857872  0.35339299 0.3608198 ]\n",
      " ...\n",
      " [0.34960776 0.36286038 0.28753185]\n",
      " [0.23947523 0.33564868 0.42487608]\n",
      " [0.54081725 0.30239429 0.15678847]]\n"
     ]
    }
   ],
   "source": [
    "from pipelinetweak.pipe import ProbT\n",
    "from sklearn.linear_model import LogisticRegression\n",
    "\n",
    "trans = ProbT(LogisticRegression(solver='lbfgs', multi_class='multinomial'), drop=False)\n",
    "trans.fit(X, y)\n",
    "Z = trans.transform(X)\n",
    "\n",
    "print(Z)"
   ]
  },
  {
   "cell_type": "code",
   "execution_count": null,
   "metadata": {},
   "outputs": [],
   "source": []
  }
 ],
 "metadata": {
  "kernelspec": {
   "display_name": "Python 3",
   "language": "python",
   "name": "python3"
  },
  "language_info": {
   "codemirror_mode": {
    "name": "ipython",
    "version": 3
   },
   "file_extension": ".py",
   "mimetype": "text/x-python",
   "name": "python",
   "nbconvert_exporter": "python",
   "pygments_lexer": "ipython3",
   "version": "3.6.3"
  }
 },
 "nbformat": 4,
 "nbformat_minor": 4
}
