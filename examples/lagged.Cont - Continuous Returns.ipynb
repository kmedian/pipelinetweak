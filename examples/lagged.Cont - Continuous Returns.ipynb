{
 "cells": [
  {
   "cell_type": "code",
   "execution_count": 1,
   "metadata": {},
   "outputs": [],
   "source": [
    "import sys\n",
    "sys.path.append('..')\n",
    "\n",
    "from pipelinetweak.lagged import val_to_cont, cont_to_val, Cont\n",
    "import numpy as np"
   ]
  },
  {
   "cell_type": "markdown",
   "metadata": {},
   "source": [
    "Generate some random variables $x>0$.\n",
    "Assume `x` is a time series with 3 variables and 7 observations.\n",
    "The oldest observation is in the first row."
   ]
  },
  {
   "cell_type": "code",
   "execution_count": 2,
   "metadata": {},
   "outputs": [
    {
     "data": {
      "text/plain": [
       "array([[77.48357077, 74.30867849, 78.23844269],\n",
       "       [82.61514928, 73.82923313, 73.82931522],\n",
       "       [82.89606408, 78.83717365, 72.65262807],\n",
       "       [77.71280022, 72.68291154, 72.67135123],\n",
       "       [76.20981136, 65.43359878, 66.37541084],\n",
       "       [72.18856235, 69.9358444 , 76.57123666],\n",
       "       [70.45987962, 67.93848149, 82.32824384]])"
      ]
     },
     "execution_count": 2,
     "metadata": {},
     "output_type": "execute_result"
    }
   ],
   "source": [
    "np.random.seed(42)\n",
    "x = np.random.normal(size=(7,3)) * 5 + 75\n",
    "x"
   ]
  },
  {
   "cell_type": "markdown",
   "metadata": {},
   "source": [
    "## To Continous Returns"
   ]
  },
  {
   "cell_type": "markdown",
   "metadata": {},
   "source": [
    "The continous return, the (exponential) growth rate, or log differences between $x_t$ and the previous observation $x_{t-1}$ is\n",
    "\n",
    "$$\n",
    "r_t\n",
    "= \\log\\left(x_t\\right) - \\log\\left(x_{t-1}\\right) \n",
    "= \\log\\left(\\frac{x_t}{x_{t-1}}\\right)\n",
    "$$\n"
   ]
  },
  {
   "cell_type": "code",
   "execution_count": 3,
   "metadata": {},
   "outputs": [
    {
     "data": {
      "text/plain": [
       "array([[        nan,         nan,         nan],\n",
       "       [ 0.06412715, -0.00647298, -0.05800524],\n",
       "       [ 0.00339451,  0.06562987, -0.01606631],\n",
       "       [-0.0645676 , -0.08127833,  0.00025767],\n",
       "       [-0.01952977, -0.10507043, -0.09062057],\n",
       "       [-0.0542086 ,  0.06654244,  0.14289484],\n",
       "       [-0.02423815, -0.0289757 ,  0.07249272]])"
      ]
     },
     "execution_count": 3,
     "metadata": {},
     "output_type": "execute_result"
    }
   ],
   "source": [
    "ret = val_to_cont(x)\n",
    "ret"
   ]
  },
  {
   "cell_type": "markdown",
   "metadata": {},
   "source": [
    "## Compounding\n",
    "The relation between two observations is\n",
    "\n",
    "$$\n",
    "x_t = x_{t-1} \\, e^{r_t}\n",
    "$$\n",
    "\n",
    "or for multiple time steps\n",
    "\n",
    "$$\n",
    "x_T = \\prod_{t=1}^T x_{t-1} \\, e^{r_t}\n",
    "$$\n",
    "\n",
    "The user must provide the intial values $x_0$.\n",
    "You could use the first row `x[0,:]` from the original dataset."
   ]
  },
  {
   "cell_type": "code",
   "execution_count": 4,
   "metadata": {},
   "outputs": [
    {
     "data": {
      "text/plain": [
       "array([[77.48357077, 74.30867849, 78.23844269],\n",
       "       [82.61514928, 73.82923313, 73.82931522],\n",
       "       [82.89606408, 78.83717365, 72.65262807],\n",
       "       [77.71280022, 72.68291154, 72.67135123],\n",
       "       [76.20981136, 65.43359878, 66.37541084],\n",
       "       [72.18856235, 69.9358444 , 76.57123666],\n",
       "       [70.45987962, 67.93848149, 82.32824384]])"
      ]
     },
     "execution_count": 4,
     "metadata": {},
     "output_type": "execute_result"
    }
   ],
   "source": [
    "cont_to_val(ret, initial=x[0,:])"
   ]
  },
  {
   "cell_type": "markdown",
   "metadata": {},
   "source": [
    "## Index to 1\n",
    "However, an initial value of 1 is often used to compare multiple time series.\n",
    "This is called \"indexed to 1\" or \"indexed to 100 percent\"."
   ]
  },
  {
   "cell_type": "code",
   "execution_count": 5,
   "metadata": {},
   "outputs": [
    {
     "data": {
      "text/plain": [
       "array([[1.        , 1.        , 1.        ],\n",
       "       [1.06622796, 0.99354792, 0.943645  ],\n",
       "       [1.06985343, 1.06094167, 0.92860524],\n",
       "       [1.00295843, 0.97812144, 0.92884455],\n",
       "       [0.98356091, 0.88056469, 0.84837336],\n",
       "       [0.93166282, 0.94115312, 0.97869071],\n",
       "       [0.90935251, 0.91427385, 1.05227355]])"
      ]
     },
     "execution_count": 5,
     "metadata": {},
     "output_type": "execute_result"
    }
   ],
   "source": [
    "cont_to_val(ret, initial=1)"
   ]
  },
  {
   "cell_type": "markdown",
   "metadata": {},
   "source": [
    "## sklearn API\n",
    "* set `Cont(initial=value)` if the `inverse_transform` should always use certain initial values. You can temporarly overwrite the behavior with `inverse_transform(initial=othervalue)`\n",
    "* if no initial values are specified, e.g. `Cont()`, then `Cont().fit(X)` will store the first row of `X` as initial values `X[0,:]`. Again, you can temporarily overwrite these inital values with `inverse_transform(initial=othervalue)`\n",
    "\n",
    "transform, inverse_transform\n",
    "\n",
    "* it assumed that `X` nor `Z` have any missing values, i.e. `NaN`\n",
    "* suggest approaches: a) use \"previous tick\" interpolation before `transform`, b) impute `0.0` before `inverse_transform`\n"
   ]
  },
  {
   "cell_type": "code",
   "execution_count": 6,
   "metadata": {},
   "outputs": [
    {
     "data": {
      "text/plain": [
       "array([[ 0.06412715, -0.00647298, -0.05800524],\n",
       "       [ 0.00339451,  0.06562987, -0.01606631],\n",
       "       [-0.0645676 , -0.08127833,  0.00025767],\n",
       "       [-0.01952977, -0.10507043, -0.09062057],\n",
       "       [-0.0542086 ,  0.06654244,  0.14289484],\n",
       "       [-0.02423815, -0.0289757 ,  0.07249272]])"
      ]
     },
     "execution_count": 6,
     "metadata": {},
     "output_type": "execute_result"
    }
   ],
   "source": [
    "obj = Cont()\n",
    "obj.fit(x)\n",
    "z = obj.transform(x)\n",
    "z"
   ]
  },
  {
   "cell_type": "code",
   "execution_count": 7,
   "metadata": {},
   "outputs": [
    {
     "data": {
      "text/plain": [
       "array([[77.48357077, 74.30867849, 78.23844269],\n",
       "       [82.61514928, 73.82923313, 73.82931522],\n",
       "       [82.89606408, 78.83717365, 72.65262807],\n",
       "       [77.71280022, 72.68291154, 72.67135123],\n",
       "       [76.20981136, 65.43359878, 66.37541084],\n",
       "       [72.18856235, 69.9358444 , 76.57123666],\n",
       "       [70.45987962, 67.93848149, 82.32824384]])"
      ]
     },
     "execution_count": 7,
     "metadata": {},
     "output_type": "execute_result"
    }
   ],
   "source": [
    "obj.inverse_transform(z)"
   ]
  },
  {
   "cell_type": "code",
   "execution_count": 8,
   "metadata": {},
   "outputs": [
    {
     "data": {
      "text/plain": [
       "array([[100.        , 100.        , 100.        ],\n",
       "       [106.6227956 ,  99.35479223,  94.36449995],\n",
       "       [106.98534316, 106.09416725,  92.86052428],\n",
       "       [100.29584265,  97.8121439 ,  92.88445518],\n",
       "       [ 98.35609098,  88.05646945,  84.83733642],\n",
       "       [ 93.1662824 ,  94.11531172,  97.86907054],\n",
       "       [ 90.93525108,  91.42738489, 105.22735501]])"
      ]
     },
     "execution_count": 8,
     "metadata": {},
     "output_type": "execute_result"
    }
   ],
   "source": [
    "obj.inverse_transform(z, initial=100)"
   ]
  },
  {
   "cell_type": "markdown",
   "metadata": {},
   "source": [
    "## Pipeline example"
   ]
  },
  {
   "cell_type": "code",
   "execution_count": 9,
   "metadata": {},
   "outputs": [
    {
     "data": {
      "text/plain": [
       "array([77.11312024, 77.07088815, 77.00821376, 77.13472664, 76.83884019,\n",
       "       76.91647793])"
      ]
     },
     "execution_count": 9,
     "metadata": {},
     "output_type": "execute_result"
    }
   ],
   "source": [
    "from pipelinetweak.lagged import Cont\n",
    "from sklearn.linear_model import Ridge\n",
    "from sklearn.pipeline import Pipeline\n",
    "\n",
    "pipe = Pipeline(steps=[\n",
    "    (\"feng\", Cont()),\n",
    "    (\"model\", Ridge())\n",
    "])\n",
    "\n",
    "m = pipe.fit(x[:,1:], x[1:,0])\n",
    "yhat = m.predict(x[:,1:])\n",
    "yhat"
   ]
  },
  {
   "cell_type": "code",
   "execution_count": 10,
   "metadata": {},
   "outputs": [
    {
     "data": {
      "text/plain": [
       "array([77.11312024, 77.07088815, 77.00821376, 77.13472664, 76.83884019,\n",
       "       76.91647793])"
      ]
     },
     "execution_count": 10,
     "metadata": {},
     "output_type": "execute_result"
    }
   ],
   "source": [
    "obj = Cont(trimnan=True)\n",
    "r = obj.fit_transform(x)\n",
    "lm = Ridge()\n",
    "lm.fit(r[:,1:], x[1:,0])\n",
    "yhat = lm.predict(r[:,1:])\n",
    "yhat"
   ]
  },
  {
   "cell_type": "code",
   "execution_count": null,
   "metadata": {},
   "outputs": [],
   "source": []
  }
 ],
 "metadata": {
  "kernelspec": {
   "display_name": "Python 3",
   "language": "python",
   "name": "python3"
  },
  "language_info": {
   "codemirror_mode": {
    "name": "ipython",
    "version": 3
   },
   "file_extension": ".py",
   "mimetype": "text/x-python",
   "name": "python",
   "nbconvert_exporter": "python",
   "pygments_lexer": "ipython3",
   "version": "3.6.3"
  }
 },
 "nbformat": 4,
 "nbformat_minor": 4
}
